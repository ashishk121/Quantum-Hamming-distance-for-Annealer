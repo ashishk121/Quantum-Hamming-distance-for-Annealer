{
  "nbformat": 4,
  "nbformat_minor": 0,
  "metadata": {
    "colab": {
      "name": "Untitled13.ipynb",
      "provenance": [],
      "collapsed_sections": [],
      "authorship_tag": "ABX9TyPCOipVoFZ9juxgmSudwz97",
      "include_colab_link": true
    },
    "kernelspec": {
      "name": "python3",
      "display_name": "Python 3"
    }
  },
  "cells": [
    {
      "cell_type": "markdown",
      "metadata": {
        "id": "view-in-github",
        "colab_type": "text"
      },
      "source": [
        "<a href=\"https://colab.research.google.com/github/ashishk121/Quantum-Hamming-distance-for-Annealer/blob/main/large%20n.ipynb\" target=\"_parent\"><img src=\"https://colab.research.google.com/assets/colab-badge.svg\" alt=\"Open In Colab\"/></a>"
      ]
    },
    {
      "cell_type": "code",
      "metadata": {
        "id": "zrOKd4Mj9vpd"
      },
      "source": [
        "import json\n",
        "from braket.aws import AwsDevice\n",
        "from braket.ocean_plugin import BraketSampler, BraketDWaveSampler\n",
        "import numpy as np\n",
        "from scipy import linalg\n",
        "import time\n",
        "import matplotlib.pyplot as plt\n",
        "import math\n",
        "\n",
        "# magic word for producing visualizations in notebook\n",
        "%matplotlib inline\n",
        "from collections import defaultdict\n",
        "import numpy as np\n",
        "from numpy import array, matrix\n",
        "from scipy.io import mmread, mmwrite\n",
        "import networkx as nx\n",
        "import dwave_networkx as dnx\n",
        "from dimod.binary_quadratic_model import BinaryQuadraticModel\n",
        "from dwave.system.composites import EmbeddingComposite\n",
        "\n",
        "import dimod\n",
        "from dimod.binary_quadratic_model import BinaryQuadraticModel\n",
        "from dwave.system.composites import EmbeddingComposite\n",
        "\n",
        "from dwave.system.composites import AutoEmbeddingComposite"
      ],
      "execution_count": null,
      "outputs": []
    },
    {
      "cell_type": "code",
      "metadata": {
        "id": "8Bozgw0l99sx"
      },
      "source": [
        "#Code to generate a circulant matrix given the first row\n",
        "\n",
        "import functools as ft\n",
        "import more_itertools as mit\n",
        "\n",
        "def composed_shifts(n):\n",
        "    \"\"\"Return a function of `n` circular shifts.\"\"\"\n",
        "    def f(x):    \n",
        "        return ft.partial(mit.circular_shifts(x).__getitem__, n)()\n",
        "    return f\n"
      ],
      "execution_count": null,
      "outputs": []
    },
    {
      "cell_type": "code",
      "metadata": {
        "id": "Q1olugOK-Ajz"
      },
      "source": [
        "n=50\n",
        "seed = np.array([0,0,0,0,0,0,0,0,0,0,0,0,0,1,0,1,1,0,1,0,0,0,0,1,1,1,1,1,0,0,0,0,1,0,1,1,0,1,0,0,0,0,0,0,0,0,0,0,0,0])\n",
        "t=np.zeros((n,n))\n",
        "t[0] = seed;\n",
        "for i in range(0,n):\n",
        "    if i!=n-1:\n",
        "        t[i+1]=np.array(composed_shifts(-1)(t[i]))\n",
        "\n",
        "B=t"
      ],
      "execution_count": null,
      "outputs": []
    },
    {
      "cell_type": "code",
      "metadata": {
        "id": "xrzg-zNZ-Gaj"
      },
      "source": [
        "n=int(50);\n",
        "s=math.floor(math.log(n)/math.log(2))\n",
        "d=n+n*s;\n",
        "print(n,s,d)"
      ],
      "execution_count": null,
      "outputs": []
    },
    {
      "cell_type": "code",
      "metadata": {
        "id": "O3B2dBor-LtO"
      },
      "source": [
        "I=np.identity(n);\n",
        "Bsq= B.dot(B);\n",
        "Bsqd=np.diagonal(Bsq)"
      ],
      "execution_count": null,
      "outputs": []
    },
    {
      "cell_type": "code",
      "metadata": {
        "id": "pfeI_Emh-OeK"
      },
      "source": [
        "M=np.zeros((d,d))\n",
        "# Fill out top-left block\n",
        "for i in range(0,n):\n",
        "    for j in range(0,n):\n",
        "        if j>i:\n",
        "            M[i,j]=-2*B[i,j]+ 2*Bsq[i,j]\n",
        "        elif i == j:\n",
        "                M[i,j]= 1+Bsqd[i]\n",
        "        else:\n",
        "            M[i,j]=0\n",
        "\n",
        "# Fill out first n rows\n",
        "for p in range(2,s+2):\n",
        "    for i in range(0,n):\n",
        "        for j in range((p-1)*n,p*n):\n",
        "            M[i,j]=(2**(p-1))*I[i,j-(p-1)*n]-(2**((p-1)+1))*B[i,j-(p-1)*n]    \n",
        "         \n",
        "\n",
        " # Fill out the main diagonal\n",
        "for i in range(n,d):\n",
        "    M[i,i]=2**(2*math.floor(i/n))\n",
        "\n",
        " #Fill out parallel diagonals   \n",
        "for q in range(1,s):\n",
        "    for i in range(n,d-n):\n",
        "        if i+q*n<d:\n",
        "            M[i,i+q*n]=2**(1+q+2*math.floor(i/n))"
      ],
      "execution_count": null,
      "outputs": []
    },
    {
      "cell_type": "code",
      "metadata": {
        "id": "1TXfm5Kr-Rcf"
      },
      "source": [
        "# In order to rule out the trivial codeword, we prepare n matrices of size d-1. These are elements of list\n",
        "# The true min is  min ( initial[i] + QUBO min of list[i])\n",
        "\n",
        "list=[];\n",
        "initial=[];\n",
        "v00=np.zeros((n,n-1))\n",
        "v0=np.zeros((n,n))\n",
        "for i in range(0,n):\n",
        "   for j in range(0,n):\n",
        "     if i<j:\n",
        "       v0[i,j]=M[i,j]\n",
        "     elif j<i:\n",
        "       v0[i,j]=M[j,i]\n",
        "   v00[i]=np.delete(v0[i],i)    \n",
        "      \n",
        "   v1=M[i][n:]\n",
        "   v2=np.concatenate((v00[i],v1))\n",
        "   v3=np.diag(v2)\n",
        "   v4=np.delete(np.delete(M,i,0),i,1)+v3\n",
        "   list.append(v4)\n",
        "   initial.append(M[i,i])"
      ],
      "execution_count": null,
      "outputs": []
    },
    {
      "cell_type": "code",
      "metadata": {
        "id": "RPbHkS59-TqM"
      },
      "source": [
        "q0=defaultdict(int)\n",
        "for u in range(0,d):\n",
        "    for v in range(0,d):\n",
        "        q0[(u,v)]= M[u,v];"
      ],
      "execution_count": null,
      "outputs": []
    },
    {
      "cell_type": "code",
      "metadata": {
        "id": "aj_mK-Xa-Vo-"
      },
      "source": [
        "qlist=[];\n",
        "for k in range(0,n):\n",
        "    q=defaultdict(int)\n",
        "    for u in range(0,d-1):\n",
        "        for v in range(0,d-1):\n",
        "            q[(u,v)]= list[k][u,v];\n",
        "    qlist.append(q)            \n",
        "      "
      ],
      "execution_count": null,
      "outputs": []
    },
    {
      "cell_type": "code",
      "metadata": {
        "id": "oGEnxEZK-Xyy"
      },
      "source": [
        "my_bucket = f\"amazon-braket-f4679e036be0\" # the name of the bucket\n",
        "my_prefix = \"testdata\" # the name of the folder in the bucket\n",
        "s3_folder = (my_bucket, my_prefix)"
      ],
      "execution_count": null,
      "outputs": []
    },
    {
      "cell_type": "code",
      "metadata": {
        "id": "ONFTFKKW-Zz6"
      },
      "source": [
        "# session and device\n",
        "device = AwsDevice(\"arn:aws:braket:::device/qpu/d-wave/Advantage_system1\")\n",
        "print('Device:', device)"
      ],
      "execution_count": null,
      "outputs": []
    },
    {
      "cell_type": "code",
      "metadata": {
        "id": "XGqAA_N4-ehB"
      },
      "source": [
        "from dwave_qbsolv import QBSolv"
      ],
      "execution_count": null,
      "outputs": []
    },
    {
      "cell_type": "code",
      "metadata": {
        "id": "B3_3EiQ_-gl0"
      },
      "source": [
        "start = time.time()\n",
        "sampler = BraketDWaveSampler(s3_folder,'arn:aws:braket:::device/qpu/d-wave/Advantage_system1')\n",
        "sampler = EmbeddingComposite(sampler)\n",
        "response = QBSolv().sample_qubo(qlist[0], solver=sampler)\n",
        "end = time.time()\n",
        "tm=end-start"
      ],
      "execution_count": null,
      "outputs": []
    },
    {
      "cell_type": "code",
      "metadata": {
        "id": "5Ywvcr7a-oP3"
      },
      "source": [
        "response.data_vectors['energy']"
      ],
      "execution_count": null,
      "outputs": []
    },
    {
      "cell_type": "code",
      "metadata": {
        "id": "9Nrg8QA9-smQ"
      },
      "source": [
        "array([-0., -0., -0., -0., -0., -0., -0., -0., -0., 38., 40., 40., 40.,\n",
        "       40., 40., 40., 40., 40., 40., 40.])\n"
      ],
      "execution_count": null,
      "outputs": []
    },
    {
      "cell_type": "code",
      "metadata": {
        "id": "J1qBiEBX-02H"
      },
      "source": [
        "initial"
      ],
      "execution_count": null,
      "outputs": []
    },
    {
      "cell_type": "code",
      "metadata": {
        "id": "rhCj15OR-vH_"
      },
      "source": [
        "tm/60"
      ],
      "execution_count": null,
      "outputs": []
    }
  ]
}