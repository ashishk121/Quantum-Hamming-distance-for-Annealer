{
  "nbformat": 4,
  "nbformat_minor": 0,
  "metadata": {
    "colab": {
      "name": "QUBO formulation quantum hamming distance.ipynb",
      "provenance": [],
      "collapsed_sections": [],
      "authorship_tag": "ABX9TyNZmAfAOI5sLR3cyBtuP5WK",
      "include_colab_link": true
    },
    "kernelspec": {
      "name": "python3",
      "display_name": "Python 3"
    }
  },
  "cells": [
    {
      "cell_type": "markdown",
      "metadata": {
        "id": "view-in-github",
        "colab_type": "text"
      },
      "source": [
        "<a href=\"https://colab.research.google.com/github/ashishk121/Quantum-Hamming-distance-for-Annealer/blob/main/QUBO_formulation_quantum_hamming_distance.ipynb\" target=\"_parent\"><img src=\"https://colab.research.google.com/assets/colab-badge.svg\" alt=\"Open In Colab\"/></a>"
      ]
    },
    {
      "cell_type": "code",
      "metadata": {
        "id": "FKoLqXHJTtIv"
      },
      "source": [
        "import numpy as np\n",
        "import math"
      ],
      "execution_count": 26,
      "outputs": []
    },
    {
      "cell_type": "code",
      "metadata": {
        "id": "xYMXdDanW1RL"
      },
      "source": [
        "# n is the size of the matrix B which defines the real self dual code\n",
        "# d is the total size of the matrix in QUBO ready form \n",
        "n=int(5);\n",
        "d=int(n + n*math.ceil(n/2))"
      ],
      "execution_count": 27,
      "outputs": []
    },
    {
      "cell_type": "code",
      "metadata": {
        "id": "zy_ei8gA12PL"
      },
      "source": [
        "B=np.array([[0,1,1,1,1],[1,0,1,1,1],[1,1,0,1,1],[1,1,1,0,1],[1,1,1,1,0]])"
      ],
      "execution_count": 28,
      "outputs": []
    },
    {
      "cell_type": "code",
      "metadata": {
        "id": "yDBgTek3rwOd"
      },
      "source": [
        "B=np.array([[0,1,1,1,1,1],[1,0,1,0,0,1],[1,1,0,1,0,0],[1,0,1,0,1,0],[1,0,0,1,0,1],[1,1,0,0,1,0]]);"
      ],
      "execution_count": 52,
      "outputs": []
    },
    {
      "cell_type": "code",
      "metadata": {
        "id": "rTpRZxrx-1Xn"
      },
      "source": [
        "B=np.array([[0,1,1,1,1,1,1,1],[1,0,1,1,1,1,1,1],[1,1,0,0,0,1,0,0],[1,1,0,0,0,0,1,0],[1,1,0,0,0,0,0,1],[1,1,1,0,0,0,0,0],[1,1,0,1,0,0,0,0],[1,1,0,0,1,0,0,0]]);"
      ],
      "execution_count": 59,
      "outputs": []
    },
    {
      "cell_type": "code",
      "metadata": {
        "id": "CPLfQJMsWEda"
      },
      "source": [
        "I=np.identity(n);\n",
        "Bsq= B.dot(B);\n",
        "Bsqd=np.diagonal(Bsq)\n",
        "# This is Generator matrix for the code\n",
        "G= np.concatenate((I,B),axis=1) "
      ],
      "execution_count": 29,
      "outputs": []
    },
    {
      "cell_type": "code",
      "metadata": {
        "id": "rLcaKoigWVCC"
      },
      "source": [
        "# Initialize to 0\n",
        "M=np.zeros((d,d))\n",
        "# Fill out top-left block\n",
        "for i in range(0,n):\n",
        "  for j in range(0,n):\n",
        "    if j>i:\n",
        "      M[i,j]=-2*B[i,j]+ 2*Bsq[i,j]\n",
        "    elif i == j:\n",
        "      M[i,j]= 1+Bsqd[i]\n",
        "    else:\n",
        "      M[i,j]=0\n",
        "\n",
        "# Fill out first n rows \n",
        "for p in range(2,math.ceil(n/2)+2):\n",
        "  \n",
        "  for i in range(0,n):\n",
        "    for j in range((p-1)*n,p*n):\n",
        "      M[i,j]=2*I[i,j-(p-1)*n]-4*B[i,j-(p-1)*n]\n",
        "\n",
        "#Fill out the main diagonal\n",
        "for i in range(n,d):\n",
        "  for j in range(0,d):\n",
        "    if i==j:\n",
        "      M[i,j]=4\n",
        "\n",
        "#Fill out the other diagonals\n",
        "for q in range(1,math.ceil(n/2)):\n",
        "  for i in range(n,d-n):\n",
        "    if i+q*n<d:\n",
        "      M[i,i+q*n]=8                   "
      ],
      "execution_count": 30,
      "outputs": []
    },
    {
      "cell_type": "code",
      "metadata": {
        "id": "dDIBrbGT_T01"
      },
      "source": [
        "# In order to rule out the trivial codeword, we prepare n matrices of size d-1. These are elements of list\n",
        "# The final result is  min ( initial[i] + QUBO min of list[i])\n",
        "\n",
        "list=[];\n",
        "initial=[];\n",
        "v00=np.zeros((n,n-1))\n",
        "v0=np.zeros((n,n))\n",
        "for i in range(0,n):\n",
        "   for j in range(0,n):\n",
        "     if i<j:\n",
        "       v0[i,j]=M[i,j]\n",
        "     elif j<i:\n",
        "       v0[i,j]=M[j,i]\n",
        "   v00[i]=np.delete(v0[i],i)    \n",
        "      \n",
        "   v1=M[i][n:]\n",
        "   v2=np.concatenate((v00[i],v1))\n",
        "   v3=np.diag(v2)\n",
        "   v4=np.delete(np.delete(M,i,0),i,1)+v3\n",
        "   list.append(v4)\n",
        "   initial.append(M[i,i])"
      ],
      "execution_count": 31,
      "outputs": []
    },
    {
      "cell_type": "code",
      "metadata": {
        "colab": {
          "base_uri": "https://localhost:8080/"
        },
        "id": "AjayXMCOWKR5",
        "outputId": "fb0ac1a6-0046-4f64-e6ed-18be2357bd58"
      },
      "source": [
        "np.shape(M)"
      ],
      "execution_count": 36,
      "outputs": [
        {
          "output_type": "execute_result",
          "data": {
            "text/plain": [
              "(20, 20)"
            ]
          },
          "metadata": {
            "tags": []
          },
          "execution_count": 36
        }
      ]
    },
    {
      "cell_type": "code",
      "metadata": {
        "colab": {
          "base_uri": "https://localhost:8080/"
        },
        "id": "1F90lVyqV0dN",
        "outputId": "79b58174-3132-4322-91e4-e477e89148e3"
      },
      "source": [
        "np.shape(list)"
      ],
      "execution_count": 35,
      "outputs": [
        {
          "output_type": "execute_result",
          "data": {
            "text/plain": [
              "(5, 19, 19)"
            ]
          },
          "metadata": {
            "tags": []
          },
          "execution_count": 35
        }
      ]
    },
    {
      "cell_type": "code",
      "metadata": {
        "colab": {
          "base_uri": "https://localhost:8080/"
        },
        "id": "Az3vcN3JWBC2",
        "outputId": "7f538beb-8727-40ad-ae07-8f00fbc61d29"
      },
      "source": [
        "np.shape(initial)"
      ],
      "execution_count": 37,
      "outputs": [
        {
          "output_type": "execute_result",
          "data": {
            "text/plain": [
              "(5,)"
            ]
          },
          "metadata": {
            "tags": []
          },
          "execution_count": 37
        }
      ]
    }
  ]
}