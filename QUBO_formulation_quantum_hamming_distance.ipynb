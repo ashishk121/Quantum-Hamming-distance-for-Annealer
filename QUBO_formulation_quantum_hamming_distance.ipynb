{
  "nbformat": 4,
  "nbformat_minor": 0,
  "metadata": {
    "colab": {
      "name": "QUBO formulation quantum hamming distance.ipynb",
      "provenance": [],
      "collapsed_sections": [],
      "authorship_tag": "ABX9TyOhTgocOFP4od5Ke5tfgwcO",
      "include_colab_link": true
    },
    "kernelspec": {
      "name": "python3",
      "display_name": "Python 3"
    }
  },
  "cells": [
    {
      "cell_type": "markdown",
      "metadata": {
        "id": "view-in-github",
        "colab_type": "text"
      },
      "source": [
        "<a href=\"https://colab.research.google.com/github/ashishk121/Quantum-Hamming-distance-for-Annealer/blob/main/QUBO_formulation_quantum_hamming_distance.ipynb\" target=\"_parent\"><img src=\"https://colab.research.google.com/assets/colab-badge.svg\" alt=\"Open In Colab\"/></a>"
      ]
    },
    {
      "cell_type": "code",
      "metadata": {
        "id": "FKoLqXHJTtIv"
      },
      "source": [
        "import numpy as np\n",
        "import sympy as sp\n",
        "from scipy import linalg"
      ],
      "execution_count": 38,
      "outputs": []
    },
    {
      "cell_type": "code",
      "metadata": {
        "id": "xYMXdDanW1RL"
      },
      "source": [
        "n=4;\n",
        "d=int(n + pow(n,2)/2)"
      ],
      "execution_count": 25,
      "outputs": []
    },
    {
      "cell_type": "code",
      "metadata": {
        "colab": {
          "base_uri": "https://localhost:8080/"
        },
        "id": "yDBgTek3rwOd",
        "outputId": "7f1f2726-a497-48e7-9862-ed123522d349"
      },
      "source": [
        "d"
      ],
      "execution_count": 26,
      "outputs": [
        {
          "output_type": "execute_result",
          "data": {
            "text/plain": [
              "12"
            ]
          },
          "metadata": {
            "tags": []
          },
          "execution_count": 26
        }
      ]
    },
    {
      "cell_type": "code",
      "metadata": {
        "id": "CPLfQJMsWEda"
      },
      "source": [
        "B=np.array([[0,1,0,1],[1,0,1,1],[0,1,0,1],[1,1,1,0]]);\n",
        "I=np.identity(n);\n",
        "Bsq= B.dot(B);\n",
        "Bsqd=np.diagonal(Bsq)"
      ],
      "execution_count": 65,
      "outputs": []
    },
    {
      "cell_type": "code",
      "metadata": {
        "id": "yJcSKlgFwLkn"
      },
      "source": [
        "G= np.concatenate((I,B),axis=1) "
      ],
      "execution_count": null,
      "outputs": []
    },
    {
      "cell_type": "code",
      "metadata": {
        "colab": {
          "base_uri": "https://localhost:8080/"
        },
        "id": "sPRzYntZv165",
        "outputId": "55c7ee13-7a33-4cac-a0a5-cdbc7bfd5d90"
      },
      "source": [
        "Bsqd"
      ],
      "execution_count": 66,
      "outputs": [
        {
          "output_type": "execute_result",
          "data": {
            "text/plain": [
              "array([2, 3, 2, 3])"
            ]
          },
          "metadata": {
            "tags": []
          },
          "execution_count": 66
        }
      ]
    },
    {
      "cell_type": "code",
      "metadata": {
        "colab": {
          "base_uri": "https://localhost:8080/"
        },
        "id": "iWkn17Bgv4c0",
        "outputId": "76c4b3fd-4244-4fb0-ced4-cc541105addd"
      },
      "source": [
        "Bsq"
      ],
      "execution_count": 42,
      "outputs": [
        {
          "output_type": "execute_result",
          "data": {
            "text/plain": [
              "array([[2, 1, 2, 1],\n",
              "       [1, 3, 1, 2],\n",
              "       [2, 1, 2, 1],\n",
              "       [1, 2, 1, 3]])"
            ]
          },
          "metadata": {
            "tags": []
          },
          "execution_count": 42
        }
      ]
    },
    {
      "cell_type": "code",
      "metadata": {
        "id": "95FraSxBtO78"
      },
      "source": [
        "M=np.zeros((d,d))"
      ],
      "execution_count": 93,
      "outputs": []
    },
    {
      "cell_type": "code",
      "metadata": {
        "colab": {
          "base_uri": "https://localhost:8080/"
        },
        "id": "Xg9WVy1LwP44",
        "outputId": "f9137206-425f-4ed8-e441-8b34662e7da9"
      },
      "source": [
        "for i in range(0,n):\n",
        "  print(i)"
      ],
      "execution_count": 45,
      "outputs": [
        {
          "output_type": "stream",
          "text": [
            "0\n",
            "1\n",
            "2\n",
            "3\n"
          ],
          "name": "stdout"
        }
      ]
    },
    {
      "cell_type": "code",
      "metadata": {
        "colab": {
          "base_uri": "https://localhost:8080/"
        },
        "id": "TN9nNBzvwl19",
        "outputId": "f34a740e-5cb8-4599-84be-e9901740914c"
      },
      "source": [
        "B[0,0]"
      ],
      "execution_count": 55,
      "outputs": [
        {
          "output_type": "execute_result",
          "data": {
            "text/plain": [
              "0"
            ]
          },
          "metadata": {
            "tags": []
          },
          "execution_count": 55
        }
      ]
    },
    {
      "cell_type": "code",
      "metadata": {
        "id": "rLcaKoigWVCC"
      },
      "source": [
        "for i in range(0,n):\n",
        "  for j in range(0,n):\n",
        "    if j>i:\n",
        "      M[i,j]=-2*B[i,j]+ 2*Bsq[i,j]\n",
        "    elif i == j:\n",
        "      M[i,j]= 1+Bsqd[i]\n",
        "    else:\n",
        "      M[i,j]=0\n",
        "\n",
        "for i in range(0,n):\n",
        "  for j in range(n,2*n):\n",
        "    M[i,j]=2*I[i,j-n]-4*B[i,j-n]\n",
        "\n",
        "for i in range(0,n):\n",
        "  for j in range(n,3*n):\n",
        "    M[i,j]=2*I[i,j-2*n]-4*B[i,j-2*n]\n",
        "\n",
        "for i in range(n,d):\n",
        "  for j in range(0,d):\n",
        "    if i==j:\n",
        "      M[i,j]=4\n",
        "\n",
        "for i in range(n,d):\n",
        "  for j in range(0,d):\n",
        "    if \n",
        "      M[i,j]=8\n",
        "             "
      ],
      "execution_count": 106,
      "outputs": []
    },
    {
      "cell_type": "code",
      "metadata": {
        "colab": {
          "base_uri": "https://localhost:8080/"
        },
        "id": "cNTFgauQ1sxr",
        "outputId": "8ed50991-4626-4fa5-a9b5-a31722de6558"
      },
      "source": [
        "M"
      ],
      "execution_count": 107,
      "outputs": [
        {
          "output_type": "execute_result",
          "data": {
            "text/plain": [
              "array([[ 3.,  0.,  4.,  0.,  2., -4.,  0., -4.,  2., -4.,  0., -4.],\n",
              "       [ 0.,  4.,  0.,  2., -4.,  2., -4., -4., -4.,  2., -4., -4.],\n",
              "       [ 0.,  0.,  3.,  0.,  0., -4.,  2., -4.,  0., -4.,  2., -4.],\n",
              "       [ 0.,  0.,  0.,  4., -4., -4., -4.,  2., -4., -4., -4.,  2.],\n",
              "       [ 0.,  0.,  0.,  0.,  8.,  0.,  0.,  0.,  0.,  0.,  0.,  0.],\n",
              "       [ 0.,  0.,  0.,  0.,  0.,  8.,  0.,  0.,  0.,  0.,  0.,  0.],\n",
              "       [ 0.,  0.,  0.,  0.,  0.,  0.,  8.,  0.,  0.,  0.,  0.,  0.],\n",
              "       [ 0.,  0.,  0.,  0.,  0.,  0.,  0.,  8.,  0.,  0.,  0.,  0.],\n",
              "       [ 8.,  0.,  0.,  0.,  0.,  0.,  0.,  0.,  4.,  0.,  0.,  0.],\n",
              "       [ 0.,  8.,  0.,  0.,  0.,  0.,  0.,  0.,  0.,  4.,  0.,  0.],\n",
              "       [ 0.,  0.,  8.,  0.,  0.,  0.,  0.,  0.,  0.,  0.,  4.,  0.],\n",
              "       [ 0.,  0.,  0.,  8.,  0.,  0.,  0.,  0.,  0.,  0.,  0.,  4.]])"
            ]
          },
          "metadata": {
            "tags": []
          },
          "execution_count": 107
        }
      ]
    },
    {
      "cell_type": "code",
      "metadata": {
        "colab": {
          "base_uri": "https://localhost:8080/"
        },
        "id": "-WnETPAHxPoB",
        "outputId": "b15915cc-26f8-4464-96a9-13a80d68364c"
      },
      "source": [
        "range(n,d)"
      ],
      "execution_count": 104,
      "outputs": [
        {
          "output_type": "execute_result",
          "data": {
            "text/plain": [
              "range(4, 12)"
            ]
          },
          "metadata": {
            "tags": []
          },
          "execution_count": 104
        }
      ]
    },
    {
      "cell_type": "code",
      "metadata": {
        "colab": {
          "base_uri": "https://localhost:8080/"
        },
        "id": "bfo-Eksk6dZ1",
        "outputId": "18c7fe72-4e17-4481-ae3d-9862c90d04e9"
      },
      "source": [
        "range(0,d)"
      ],
      "execution_count": 105,
      "outputs": [
        {
          "output_type": "execute_result",
          "data": {
            "text/plain": [
              "range(0, 12)"
            ]
          },
          "metadata": {
            "tags": []
          },
          "execution_count": 105
        }
      ]
    },
    {
      "cell_type": "code",
      "metadata": {
        "id": "KulbLqsCdmHL"
      },
      "source": [
        ""
      ],
      "execution_count": null,
      "outputs": []
    }
  ]
}